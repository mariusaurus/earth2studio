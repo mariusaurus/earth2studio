{
 "cells": [
  {
   "cell_type": "markdown",
   "metadata": {},
   "source": [
    "## read csv file"
   ]
  },
  {
   "cell_type": "code",
   "execution_count": null,
   "metadata": {},
   "outputs": [],
   "source": [
    "from os.path import join\n",
    "from analyse_n_plot import load_tracks\n",
    "\n",
    "# case = 'amphan_2020_north_indian'\n",
    "# case = 'beryl_2024_north_atlantic'\n",
    "# case = 'debbie_2017_southern_pacific'\n",
    "# case = 'dorian_2019_north_atlantic'\n",
    "# case = 'harvey_2017_north_atlantic'\n",
    "# case = 'hato_2017_west_pacific'\n",
    "case = 'helene_2024_north_atlantic'\n",
    "# case = 'ian_2022_north_atlantic'\n",
    "# case = 'iota_2020_north_atlantic'\n",
    "# case = 'irma_2017_north_atlantic'\n",
    "# case = 'lan_2017_west_pacific'\n",
    "# case = 'lee_2023_north_atlantic'\n",
    "# case = 'lorenzo_2019_north_atlantic'\n",
    "# case = 'maria_2017_north_atlantic'\n",
    "# case = 'mawar_2023_west_pacific'\n",
    "# case = 'michael_2018_north_atlantic'\n",
    "# case = 'milton_2024_north_atlantic'\n",
    "# case = 'ophelia_2017_north_atlantic'\n",
    "# case = 'yagi_2024_west_pacific'\n",
    "\n",
    "# case = 'erin_2025_north_atlantic'\n",
    "\n",
    "base_path_colibri = '/home/mkoch/Documents/projects/fcn3_tcs/track_data/'\n",
    "base_path_eos = '/home/mkoch/coreai/fcn3_cyclones/results/'\n",
    "\n",
    "base_path = base_path_eos\n",
    "\n",
    "pred_track_dir = f'predictions/case_studies_256_mem_random_seed_issue/cyclone_tracks_te'\n",
    "tru_track_dir = f'reference_tracks'\n",
    "# pred_track_dir = 'predictions/helene_diag_test/cyclone_tracks_te'\n",
    "# pred_track_dir = 'track_data/predictions/erin_live_forecasting/cyclone_tracks_te'\n",
    "# pred_track_dir = 'track_data/predictions/erin_lagged'\n",
    "out_dir = f'./plots'\n",
    "\n",
    "tru_track, pred_tracks, ens_mean, n_members, out_dir = load_tracks(case=case,\n",
    "                                                                   pred_track_dir=join(base_path, pred_track_dir),\n",
    "                                                                   tru_track_dir=join(base_path, tru_track_dir),\n",
    "                                                                   out_dir=out_dir)"
   ]
  },
  {
   "cell_type": "markdown",
   "metadata": {},
   "source": [
    "## plot tracks"
   ]
  },
  {
   "cell_type": "code",
   "execution_count": null,
   "metadata": {},
   "outputs": [],
   "source": [
    "from plotting_helpers import plot_spaghetti\n",
    "\n",
    "plot_spaghetti(true_track=tru_track,\n",
    "               pred_tracks=pred_tracks,\n",
    "               ensemble_mean=ens_mean['mean'],\n",
    "               case=case,\n",
    "               n_members=n_members,\n",
    "               out_dir=out_dir)"
   ]
  },
  {
   "cell_type": "markdown",
   "metadata": {},
   "source": [
    "## plot intensities over time"
   ]
  },
  {
   "cell_type": "code",
   "execution_count": null,
   "metadata": {},
   "outputs": [],
   "source": [
    "from plotting_helpers import plot_over_time\n",
    "\n",
    "plot_over_time(pred_tracks=pred_tracks,\n",
    "               tru_track=tru_track,\n",
    "               ensemble_mean=ens_mean,\n",
    "               case=case,\n",
    "               n_members=n_members,\n",
    "               out_dir=out_dir)"
   ]
  },
  {
   "cell_type": "markdown",
   "metadata": {},
   "source": [
    "## plot relative intensities over time"
   ]
  },
  {
   "cell_type": "code",
   "execution_count": null,
   "metadata": {},
   "outputs": [],
   "source": [
    "from plotting_helpers import plot_relative_over_time\n",
    "\n",
    "plot_relative_over_time(pred_tracks=pred_tracks,\n",
    "                        tru_track=tru_track,\n",
    "                        ensemble_mean=ens_mean,\n",
    "                        case=case,\n",
    "                        n_members=n_members,\n",
    "                        out_dir=out_dir)"
   ]
  },
  {
   "cell_type": "markdown",
   "metadata": {},
   "source": [
    "## plot ERA5 over IB vars"
   ]
  },
  {
   "cell_type": "code",
   "execution_count": null,
   "metadata": {},
   "outputs": [],
   "source": [
    "from plotting_helpers import plot_ib_era5\n",
    "\n",
    "plot_ib_era5(tru_track=tru_track,\n",
    "             case=case,\n",
    "             vars=['msl', 'wind_speed'],\n",
    "             out_dir=out_dir)"
   ]
  },
  {
   "cell_type": "markdown",
   "metadata": {},
   "source": [
    "## extreme values"
   ]
  },
  {
   "cell_type": "code",
   "execution_count": null,
   "metadata": {},
   "outputs": [],
   "source": [
    "from plotting_helpers import plot_extreme_extremes_histograms\n",
    "\n",
    "plot_extreme_extremes_histograms(pred_tracks=pred_tracks,\n",
    "                                 tru_track=tru_track,\n",
    "                                 ensemble_mean=ens_mean,\n",
    "                                 case=case,\n",
    "                                 out_dir=out_dir)"
   ]
  },
  {
   "cell_type": "markdown",
   "metadata": {},
   "source": [
    "## moments"
   ]
  },
  {
   "cell_type": "code",
   "execution_count": null,
   "metadata": {},
   "outputs": [],
   "source": [
    "from data_handling import compute_averages_of_errors_over_lead_time\n",
    "from plotting_helpers import plot_errors_over_lead_time\n",
    "\n",
    "vars = ['wind_speed', 'msl', 'dist']\n",
    "\n",
    "err_dict, _ = compute_averages_of_errors_over_lead_time(pred_tracks=pred_tracks,\n",
    "                                                        tru_track=tru_track,\n",
    "                                                        vars=vars)\n",
    "\n",
    "plot_errors_over_lead_time(err_dict=err_dict,\n",
    "                           case=case,\n",
    "                           ic=pred_tracks[0]['ic'],\n",
    "                           n_members=n_members,\n",
    "                           n_tracks=len(pred_tracks),\n",
    "                           out_dir=out_dir)"
   ]
  }
 ],
 "metadata": {
  "kernelspec": {
   "display_name": ".venv",
   "language": "python",
   "name": "python3"
  },
  "language_info": {
   "codemirror_mode": {
    "name": "ipython",
    "version": 3
   },
   "file_extension": ".py",
   "mimetype": "text/x-python",
   "name": "python",
   "nbconvert_exporter": "python",
   "pygments_lexer": "ipython3",
   "version": "3.12.10"
  }
 },
 "nbformat": 4,
 "nbformat_minor": 2
}
